{
 "cells": [
  {
   "cell_type": "markdown",
   "metadata": {},
   "source": [
    "## Rocket sciense is so cool!\n",
    "\n",
    "This document has couple of text about my new programm, wich can calculate a reactive moution of rockets."
   ]
  },
  {
   "cell_type": "markdown",
   "metadata": {},
   "source": [
    "For calculations was used 2 methods:\n",
    "1. Euler method modification for solving 2nd order differential equasions over a vector space.\n",
    "2. Modificated classical Runge–Kutta method (for solving 2nd order differential equasions over a vector space\n",
    "I tried to realize Runge–Kutta–Nyström method, witch prbably the best for tasks of this kind, but is was way too difficult :(\n",
    "Also, I realized 6th-order Runge–Kutta method, but it's not wery useful in realities of the current task, so, I don't include that to this project.\n",
    "\n",
    "Whih more complicated method (2) we can do less iteration with sufficient accuracy.\n",
    "This is really usefull because it's pretty difficult to compute some not optimizet parts of code."
   ]
  },
  {
   "cell_type": "markdown",
   "metadata": {},
   "source": [
    "## Euler and RK4"
   ]
  },
  {
   "cell_type": "code",
   "execution_count": 50,
   "metadata": {},
   "outputs": [
    {
     "data": {
      "image/png": "[encoded data removed]",
      "text/plain": [
       "<Figure size 432x288 with 1 Axes>"
      ]
     },
     "metadata": {
      "needs_background": "light"
     },
     "output_type": "display_data"
    }
   ],
   "source": [
    "import matplotlib.pyplot as plt\n",
    "import numpy as np\n",
    "import scipy.special\n",
    "\n",
    "def euler(F, y, dy, t, T, dt):\n",
    "\tTs = []\n",
    "\tYs = []\n",
    "\twhile t < T:\n",
    "\t\tdy += F(t, y, dy)*dt\n",
    "\t\ty += dy*dt\n",
    "\t\tt+=dt\n",
    "\t\tTs.append(t)\n",
    "\t\tYs.append(y)\n",
    "\tplt.plot(Ts,Ys)\n",
    "\t\n",
    "def runge_kutta_4(F, y, dy, t, T, dt):\n",
    "\tTs = []\n",
    "\tYs = []\n",
    "\n",
    "\tk1, k2, k3, k4 = 0,0,0,0\n",
    "\tq1, q2, q3, q4 = 0,0,0,0\n",
    "\n",
    "\twhile t < T:\n",
    "\t\tk1 = dt * dy\n",
    "\t\tq1 = dt * F(t, y, dy)\n",
    "\n",
    "\t\tk2 = dt * (dy + q1/2)\n",
    "\t\tq2 = dt * F(t + dt/2, y + k1/2, dy + q1/2)\n",
    "\n",
    "\t\tk3 = dt * (dy + q2/2)\n",
    "\t\tq3 = dt * F(t + dt/2, y + k2/2, dy + q2/2)\n",
    "\n",
    "\t\tk4 = dt * (dy + q3)\n",
    "\t\tq4 = dt * F(t + dt, y + k3, dy + q3)\n",
    "\n",
    "\t\ty += (k1+2*k2+2*k3 + k4)/6\n",
    "\t\tdy += (q1+2*q2+2*q3 + q4)/6\n",
    "\n",
    "\t\tTs.append(t)\n",
    "\t\tYs.append(y)\n",
    "\n",
    "\t\tt+=dt\n",
    "\tplt.plot(Ts,Ys)\n",
    "\n",
    "def F(t, y, dy):\n",
    "\treturn -dy/t - y\n",
    "\n",
    "\n",
    "euler(F, 1, 0, 0.01, 100, 0.3)\n",
    "runge_kutta_4(F, 1, 0, 0.1, 100, 0.3) #one of the Bessel functions of first kind :)\n",
    "\n",
    "plt.show()\n",
    "\n"
   ]
  },
  {
   "cell_type": "markdown",
   "metadata": {},
   "source": [
    "## Euler vs RK4"
   ]
  },
  {
   "cell_type": "code",
   "execution_count": 51,
   "metadata": {},
   "outputs": [
    {
     "name": "stdout",
     "output_type": "stream",
     "text": [
      "449 µs ± 3.11 µs per loop (mean ± std. dev. of 7 runs, 1000 loops each)\n",
      "4.45 ms ± 7.96 µs per loop (mean ± std. dev. of 7 runs, 100 loops each)\n",
      "2.24 ms ± 17.5 µs per loop (mean ± std. dev. of 7 runs, 100 loops each)\n"
     ]
    }
   ],
   "source": [
    "def euler(F, y, dy, t, T, dt):\n",
    "\twhile t < T:\n",
    "\t\tdy += F(t, y, dy)*dt\n",
    "\t\ty += dy*dt\n",
    "\t\tt+=dt\n",
    "\t\n",
    "def runge_kutta_4(F, y, dy, t, T, dt):\n",
    "\tk1, k2, k3, k4 = 0,0,0,0\n",
    "\tq1, q2, q3, q4 = 0,0,0,0\n",
    "\twhile t < T:\n",
    "\t\tk1 = dt * dy\n",
    "\t\tq1 = dt * F(t, y, dy)\n",
    "\n",
    "\t\tk2 = dt * (dy + q1/2)\n",
    "\t\tq2 = dt * F(t + dt/2, y + k1/2, dy + q1/2)\n",
    "\n",
    "\t\tk3 = dt * (dy + q2/2)\n",
    "\t\tq3 = dt * F(t + dt/2, y + k2/2, dy + q2/2)\n",
    "\n",
    "\t\tk4 = dt * (dy + q3)\n",
    "\t\tq4 = dt * F(t + dt, y + k3, dy + q3)\n",
    "\n",
    "\t\ty += (k1+2*k2+2*k3 + k4)/6\n",
    "\t\tdy += (q1+2*q2+2*q3 + q4)/6\n",
    "\t\tt+=dt\n",
    "\n",
    "%timeit euler(F, 1, 0, 0.01, 100, 0.3)\n",
    "%timeit euler(F, 1, 0, 0.01, 100, 0.03)\n",
    "%timeit runge_kutta_4(F, 1, 0, 0.01, 100, 0.3)"
   ]
  },
  {
   "cell_type": "markdown",
   "metadata": {},
   "source": [
    "We need comparate only euler(0.03) and RK4(0.3) becouse we need much more steps in euler method for getting the same accuracy\n",
    "At least, we have x2 speed with using this alorithm. But this numbers will increase in more complicated tasks."
   ]
  },
  {
   "cell_type": "markdown",
   "metadata": {},
   "source": [
    "# Physics\n",
    "\n",
    "$M a = dm \\cdot u + Mg + F_{res}$\n",
    "\n",
    "In the programm I conclude in computings:\n",
    "1. jet propulsion $dm \\cdot u$\n",
    "2. air resistance $k \\cdot S \\cdot v^2 \\cdot ρ/2$\n",
    "3. reducing the gravitational acceleration with height\n",
    "4. reducing air density with height\n",
    "\n",
    "There no any formula for (4) in the internet. But there is some data about that: https://ru.wikipedia.org/wiki/Стандартная_атмосфера"
   ]
  },
  {
   "cell_type": "code",
   "execution_count": 52,
   "metadata": {},
   "outputs": [
    {
     "data": {
      "image/png": "[encoded data removed]",
      "text/plain": [
       "<Figure size 432x288 with 1 Axes>"
      ]
     },
     "metadata": {
      "needs_background": "light"
     },
     "output_type": "display_data"
    }
   ],
   "source": [
    "#some values from wikipedia\n",
    "def air_ρ(r):\n",
    "        h = r\n",
    "        if h < 500: return 1.225\n",
    "        if h < 1000: return 1.167\n",
    "        if h < 1500: return 1.112\n",
    "        if h < 2000: return 1.058\n",
    "        if h < 2500: return 1.007\n",
    "        if h < 3000: return 0.957\n",
    "\n",
    "        if h < 6000: return 0.737\n",
    "\n",
    "        if h < 8000: return 0.59\n",
    "\n",
    "        if h < 12000: return 0.365\n",
    "\n",
    "        if h < 20000: return 0.122\n",
    "\n",
    "        if h < 32000: return 0.025\n",
    "\n",
    "        if h < 100000: 0.0000185\n",
    "        if h < 150000: 0.000000555\n",
    "        if h < 200000: 0.000000002\n",
    "        if h < 300000: 0.000000000252\n",
    "        if h < 300000: 0.000000000252\n",
    "\n",
    "        return 0\n",
    "x = np.arange(100, 100000, 500)\n",
    "y = []\n",
    "for i in x:\n",
    "    y.append(air_ρ(i))\n",
    "\n",
    "fig = plt.figure()\n",
    "ax = plt.gca()\n",
    "ax.set_xscale('log')\n",
    "\n",
    "ax.scatter(x, y)\n",
    "plt.show()"
   ]
  },
  {
   "cell_type": "markdown",
   "metadata": {},
   "source": [
    "This is looks like erf() function. That's pretty good!"
   ]
  },
  {
   "cell_type": "code",
   "execution_count": 10,
   "metadata": {},
   "outputs": [
    {
     "data": {
      "image/png": "[encoded data removed]",
      "text/plain": [
       "<Figure size 432x288 with 1 Axes>"
      ]
     },
     "metadata": {
      "needs_background": "light"
     },
     "output_type": "display_data"
    }
   ],
   "source": [
    "z = []\n",
    "for i in x:\n",
    "    z.append((1+scipy.special.erf(((np.log(6000))-np.log(i))*0.6))*1.225/2)\n",
    "fig = plt.figure()\n",
    "ax = plt.gca()\n",
    "ax.set_xscale('log')\n",
    "\n",
    "ax.scatter(x, y)\n",
    "ax.scatter(x, z)\n",
    "plt.show()"
   ]
  },
  {
   "cell_type": "markdown",
   "metadata": {},
   "source": [
    "That is pretty accurate, so we can use this appoximation in code:\n",
    "$\ro(h) \\approx \\Big(1+erf \\big(5.2-0.6\\ln h  \\big) \\Big) \\cdot ρ(0)/2$"
   ]
  },
  {
   "cell_type": "markdown",
   "metadata": {},
   "source": [
    "# Few information about code:\n",
    "1. PlotStyle class help me to create an interesting design of plots.\n",
    "2. We sould use \"st.do_aspect = 1\" if we need to see a 1:1 scale of the rocket path.\n",
    "3. Om the top plot there is a black cross. This is the point at which fuel runs out.\n",
    "4. Om the middle plot thre is 3 lines: green = absolute value of air resistance, blue = x_component, orange = y_component\n",
    "\n",
    "\n",
    "\n"
   ]
  }
 ],
 "metadata": {
  "interpreter": {
   "hash": "b53ecbaf9667e5acfd458a2410ad6549366dd96bda6744c6deaa02a319ccc99b"
  },
  "kernelspec": {
   "display_name": "Python 3.9.5 64-bit",
   "name": "python3"
  },
  "language_info": {
   "codemirror_mode": {
    "name": "ipython",
    "version": 3
   },
   "file_extension": ".py",
   "mimetype": "text/x-python",
   "name": "python",
   "nbconvert_exporter": "python",
   "pygments_lexer": "ipython3",
   "version": "3.9.5"
  },
  "orig_nbformat": 4
 },
 "nbformat": 4,
 "nbformat_minor": 2
}
