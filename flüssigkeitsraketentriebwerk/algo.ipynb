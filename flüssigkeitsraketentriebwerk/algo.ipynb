{
 "cells": [
  {
   "cell_type": "code",
   "execution_count": 1,
   "metadata": {},
   "outputs": [
    {
     "name": "stdout",
     "output_type": "stream",
     "text": [
      "0.3183098916135720392981235083\n"
     ]
    }
   ],
   "source": [
    "#десятичная арифметика\n",
    "from decimal import *\n",
    "getcontext().prec = 28\n",
    "S = Decimal(1)/Decimal(3.1415926)\n",
    "print(S)"
   ]
  },
  {
   "cell_type": "code",
   "execution_count": null,
   "metadata": {},
   "outputs": [],
   "source": [
    "#решение диффуров\n",
    "\n",
    "def euler(F, y, dy, t, T, dt):\n",
    "\t\"\"\"Метод Эйлера для диффуров 2-го порядка\"\"\"\n",
    "\tTs = []\n",
    "\tYs = []\n",
    "\tDYs = []\n",
    "\twhile t < T:\n",
    "\t\tdy += F(t, y, dy)*dt\n",
    "\t\ty += dy*dt\n",
    "\t\tt+=dt\n",
    "\t\tTs.append(t)\n",
    "\t\tYs.append(y)\n",
    "\t\tDYs.append(dy)\n",
    "\tplt.plot(Ts,Ys)\n",
    "\t\n",
    "def runge_kutta_4(F, y, dy, t, T, dt):\n",
    "\t\"\"\"Метод Рунге — Кутты 4-го порядка для диффуров 2-го порядка\"\"\"\n",
    "\tTs = []\n",
    "\tYs = []\n",
    "\tDYs = []\n",
    "\n",
    "\tk1, k2, k3, k4 = 0,0,0,0\n",
    "\tq1, q2, q3, q4 = 0,0,0,0\n",
    "\n",
    "\twhile t < T:\n",
    "\t\tk1 = dt * dy\n",
    "\t\tq1 = dt * F(t, y, dy)\n",
    "\n",
    "\t\tk2 = dt * (dy + q1/2)\n",
    "\t\tq2 = dt * F(t + dt/2, y + k1/2, dy + q1/2)\n",
    "\n",
    "\t\tk3 = dt * (dy + q2/2)\n",
    "\t\tq3 = dt * F(t + dt/2, y + k2/2, dy + q2/2)\n",
    "\n",
    "\t\tk4 = dt * (dy + q3)\n",
    "\t\tq4 = dt * F(t + dt, y + k3, dy + q3)\n",
    "\n",
    "\t\ty += (k1+2*k2+2*k3 + k4)/6\n",
    "\t\tdy += (q1+2*q2+2*q3 + q4)/6\n",
    "\n",
    "\t\tTs.append(t)\n",
    "\t\tYs.append(y)\n",
    "\t\tDYs.append(dy)\n",
    "\n",
    "\t\tt+=dt\n",
    "\tplt.plot(Ys,DYs)"
   ]
  },
  {
   "cell_type": "code",
   "execution_count": 1,
   "metadata": {},
   "outputs": [
    {
     "name": "stdout",
     "output_type": "stream",
     "text": [
      "False\n"
     ]
    }
   ],
   "source": [
    "x = [(0,1), (2,3)]\n",
    "y = []\n",
    "for i in x:\n",
    "    if not y.__contains__(x[i][0]): y.append(x[i][0])\n",
    "    if not y.__contains__(x[i][1]): y.append(x[i][1])\n"
   ]
  }
 ],
 "metadata": {
  "interpreter": {
   "hash": "b53ecbaf9667e5acfd458a2410ad6549366dd96bda6744c6deaa02a319ccc99b"
  },
  "kernelspec": {
   "display_name": "Python 3.9.5 64-bit",
   "name": "python3"
  },
  "language_info": {
   "codemirror_mode": {
    "name": "ipython",
    "version": 3
   },
   "file_extension": ".py",
   "mimetype": "text/x-python",
   "name": "python",
   "nbconvert_exporter": "python",
   "pygments_lexer": "ipython3",
   "version": "3.9.5"
  },
  "orig_nbformat": 4
 },
 "nbformat": 4,
 "nbformat_minor": 2
}
